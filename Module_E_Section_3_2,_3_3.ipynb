{
  "nbformat": 4,
  "nbformat_minor": 0,
  "metadata": {
    "colab": {
      "name": "Module E: Section 3.2, 3.3.ipynb",
      "provenance": [],
      "collapsed_sections": [],
      "authorship_tag": "ABX9TyM4WOV27tD6p1yQw0/ehEd5",
      "include_colab_link": true
    },
    "kernelspec": {
      "name": "python3",
      "display_name": "Python 3"
    },
    "language_info": {
      "name": "python"
    }
  },
  "cells": [
    {
      "cell_type": "markdown",
      "metadata": {
        "id": "view-in-github",
        "colab_type": "text"
      },
      "source": [
        "<a href=\"https://colab.research.google.com/github/LemonSqu33zy/MAT421/blob/main/Module_E_Section_3_2%2C_3_3.ipynb\" target=\"_parent\"><img src=\"https://colab.research.google.com/assets/colab-badge.svg\" alt=\"Open In Colab\"/></a>"
      ]
    },
    {
      "cell_type": "code",
      "execution_count": 15,
      "metadata": {
        "colab": {
          "base_uri": "https://localhost:8080/"
        },
        "id": "i6aL1duQGZu4",
        "outputId": "7fbb91c0-b7c7-47ea-8633-39b3cf7fad9a"
      },
      "outputs": [
        {
          "output_type": "stream",
          "name": "stdout",
          "text": [
            "For a value, 2.8405515143595212\n",
            "The Taylor Approximation = 17.112615996683733\n",
            "While the actual number = 17.12520773112726\n"
          ]
        }
      ],
      "source": [
        "## Doing a taylor series for the function f(x) = e^x for a random x value. As \n",
        "## more derivatives are added to the for loop, our taylor value gets closer to\n",
        "## the actual value. \n",
        "import math\n",
        "import random\n",
        "\n",
        "x = random.uniform(1,10)\n",
        "taylor_f = 0\n",
        "for i in range(10):\n",
        "  taylor_f += x**(i)/math.factorial(i)\n",
        "\n",
        "print(\"For a value,\",x)\n",
        "print(\"The Taylor Approximation =\",taylor_f)\n",
        "print(\"While the actual number =\",math.exp(x))\n"
      ]
    },
    {
      "cell_type": "code",
      "source": [
        "## Using a Hessian Matrix of the 2nd order equation \n",
        "## f(x) = (1/2)*x^T*P*x + q^T*x + r\n",
        "## we can evaluate if the the x0 is a local minimizer\n",
        "import numpy as np\n",
        "import matplotlib.pyplot as plt\n",
        "\n",
        "x = [1,2],[5,6]\n",
        "xT = np.transpose(x)\n",
        "q =[3,6],[5,2]\n",
        "qT = np.transpose(q)\n",
        "r = 2\n",
        "P = [-5,4],[7,8]\n",
        "PT = np.transpose(P)\n",
        "Hf = (1/2)*(P+PT)\n",
        "print(\"Our Hessian Matrix is:\")\n",
        "print(Hf)\n",
        "w,v = np.linalg.eig(Hf)\n",
        "print(\"Thus our Eigenvalues are:\")\n",
        "print(w)\n",
        "print(\"With a negative Eigenvalue, the x0 is not a local minimizer\")"
      ],
      "metadata": {
        "colab": {
          "base_uri": "https://localhost:8080/"
        },
        "id": "QZQVPZY3T57P",
        "outputId": "bd6b5b09-8e81-4a95-9672-1736aee9b789"
      },
      "execution_count": 48,
      "outputs": [
        {
          "output_type": "stream",
          "name": "stdout",
          "text": [
            "Our Hessian Matrix is:\n",
            "[[-5.   5.5]\n",
            " [ 5.5  8. ]]\n",
            "Thus our Eigenvalues are:\n",
            "[-7.01469318 10.01469318]\n",
            "With a negative Eigenvalue, the x0 is not a local minimizer\n"
          ]
        }
      ]
    }
  ]
}