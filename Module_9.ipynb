{
  "nbformat": 4,
  "nbformat_minor": 0,
  "metadata": {
    "colab": {
      "name": "Module 9.ipynb",
      "provenance": [],
      "collapsed_sections": [],
      "authorship_tag": "ABX9TyO9ir/8Qb/Ff2jgE0ucF3nY",
      "include_colab_link": true
    },
    "kernelspec": {
      "name": "python3",
      "display_name": "Python 3"
    },
    "language_info": {
      "name": "python"
    }
  },
  "cells": [
    {
      "cell_type": "markdown",
      "metadata": {
        "id": "view-in-github",
        "colab_type": "text"
      },
      "source": [
        "<a href=\"https://colab.research.google.com/github/LemonSqu33zy/MAT421/blob/main/Module_9.ipynb\" target=\"_parent\"><img src=\"https://colab.research.google.com/assets/colab-badge.svg\" alt=\"Open In Colab\"/></a>"
      ]
    },
    {
      "cell_type": "code",
      "source": [
        "#Using int() to go from binary to decimal based on the problem at end of chapter. Essentially this is taking the input binary number and returning the appropriate integer. 1010 is 0*2^0 + 1*2^1 + 0*2^2 + 1*2^3 which is 2+8, and thus 10.\n",
        "def my_bin_2_dec(b):\n",
        "  d = int(b,2)\n",
        "  return d\n",
        "\n",
        "my_bin_2_dec('1010')"
      ],
      "metadata": {
        "colab": {
          "base_uri": "https://localhost:8080/"
        },
        "id": "JLzdstmEV-MO",
        "outputId": "034ca923-0cb3-4225-9822-8180afabf45f"
      },
      "execution_count": 1,
      "outputs": [
        {
          "output_type": "execute_result",
          "data": {
            "text/plain": [
              "10"
            ]
          },
          "metadata": {},
          "execution_count": 1
        }
      ]
    },
    {
      "cell_type": "code",
      "source": [
        "#Using bin() to go from decimal to binary. The math is essentially taking the input number and counting to it in binary. basically going in reverse of the previous code, 10 is 8 + 2. You start at the highest base 2 value and work backwords.\n",
        "def my_dec_2_bin(d):\n",
        "  b = bin(d).replace(\"0b\",\"\")\n",
        "  return b\n",
        "my_dec_2_bin(10)"
      ],
      "metadata": {
        "colab": {
          "base_uri": "https://localhost:8080/",
          "height": 35
        },
        "id": "bvDOSEsvb50h",
        "outputId": "97d0969b-142d-4ca6-f5b2-2260527296cf"
      },
      "execution_count": 5,
      "outputs": [
        {
          "output_type": "execute_result",
          "data": {
            "application/vnd.google.colaboratory.intrinsic+json": {
              "type": "string"
            },
            "text/plain": [
              "'1010'"
            ]
          },
          "metadata": {},
          "execution_count": 5
        }
      ]
    },
    {
      "cell_type": "code",
      "source": [
        "#Going from ieee to decimal using struct and hex. Cannot figure out why this is only returning 1 decimal place. \n",
        "import struct\n",
        "def my_ieee_2_dec(ieee):\n",
        "  if ieee[0] == '1':\n",
        "    ieee = '0' + ieee[1:]\n",
        "    flt = hex(int(ieee,2))\n",
        "    d = -struct.unpack(\"d\",struct.pack(\"Q\",int(flt,16)))[0]\n",
        "    return d\n",
        "  else:\n",
        "    flt = hex(int(ieee,2))\n",
        "    d = struct.unpack(\"d\",struct.pack(\"Q\",int(flt,16)))[0]\n",
        "    return d\n",
        "print(my_ieee_2_dec('1100000001001000000000000000000000000000000000000000000000000000'))\n",
        "my_ieee_2_dec('0100000000001011001100110011001100110011001100110011001100110011')\n"
      ],
      "metadata": {
        "colab": {
          "base_uri": "https://localhost:8080/"
        },
        "id": "a94-m2Gif6UE",
        "outputId": "49972793-ff92-4d30-eaeb-84b167cdc1de"
      },
      "execution_count": 12,
      "outputs": [
        {
          "output_type": "stream",
          "name": "stdout",
          "text": [
            "-48.0\n"
          ]
        },
        {
          "output_type": "execute_result",
          "data": {
            "text/plain": [
              "3.4"
            ]
          },
          "metadata": {},
          "execution_count": 12
        }
      ]
    }
  ]
}