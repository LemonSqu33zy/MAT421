{
  "nbformat": 4,
  "nbformat_minor": 0,
  "metadata": {
    "colab": {
      "name": "Module C: Section 19.1, 19,2, 19.3, 19.4 19.5.ipynb",
      "provenance": [],
      "authorship_tag": "ABX9TyPSocd/1T/urRY1HTmkX+4s",
      "include_colab_link": true
    },
    "kernelspec": {
      "name": "python3",
      "display_name": "Python 3"
    },
    "language_info": {
      "name": "python"
    }
  },
  "cells": [
    {
      "cell_type": "markdown",
      "metadata": {
        "id": "view-in-github",
        "colab_type": "text"
      },
      "source": [
        "<a href=\"https://colab.research.google.com/github/LemonSqu33zy/MAT421/blob/main/Module_C_Section_19_1%2C_19%2C2%2C_19_3%2C_19_4_19_5.ipynb\" target=\"_parent\"><img src=\"https://colab.research.google.com/assets/colab-badge.svg\" alt=\"Open In Colab\"/></a>"
      ]
    },
    {
      "cell_type": "code",
      "execution_count": 3,
      "metadata": {
        "colab": {
          "base_uri": "https://localhost:8080/"
        },
        "id": "ZKJmkMy-Oryw",
        "outputId": "ec54f525-6904-44c6-cb01-24a80cf12707"
      },
      "outputs": [
        {
          "output_type": "stream",
          "name": "stdout",
          "text": [
            "r = [-3.52047359e+83]\n",
            "result= [-2.84052692e-84]\n",
            "The number of calls to function has reached maxfev = 400.\n"
          ]
        },
        {
          "output_type": "stream",
          "name": "stderr",
          "text": [
            "/usr/local/lib/python3.7/dist-packages/scipy/optimize/minpack.py:162: RuntimeWarning: The number of calls to function has reached maxfev = 400.\n",
            "  warnings.warn(msg, RuntimeWarning)\n"
          ]
        }
      ],
      "source": [
        "## By looking at the function 1/x, we can see the limitations of the fsolve \n",
        "## function in python, i.e. when there is no root. \n",
        "import numpy as np\n",
        "from scipy import optimize\n",
        "\n",
        "f = lambda x: 1/x\n",
        "r = optimize.fsolve(f, -2)\n",
        "r, infodict, ier, mesg = optimize.fsolve(f, -2, full_output=True)\n",
        "print(\"r =\", r)\n",
        "\n",
        "# Verify the solution is a root\n",
        "result = f(r)\n",
        "print(\"result=\", result)\n",
        "\n",
        "print(mesg)"
      ]
    },
    {
      "cell_type": "code",
      "source": [
        "## The bisection method uses the Intermediate Value Theorem to find the root. \n",
        "## The assumption that there is some f(c) = 0 value between f(a) and f(b) such \n",
        "## that a<b<c. Thus by using a midpoint f(m), if it is close to 0, then there is \n",
        "## a root. If f(m) > 0, then there will be a root in (m,b). If f(m) < 0,\n",
        "## then there will be a root in (a,m).\n",
        "import numpy as np\n",
        "\n",
        "def my_bisection(f, a, b, tol): \n",
        "    # approximates a root, R, of f bounded \n",
        "    # by a and b to within tolerance \n",
        "    # | f(m) | < tol with m the midpoint \n",
        "    # between a and b Recursive implementation\n",
        "    # check if a and b bound a root\n",
        "    if np.sign(f(a)) == np.sign(f(b)):\n",
        "        raise Exception(\n",
        "         \"The scalars a and b do not bound a root\")\n",
        "        \n",
        "    # get midpoint\n",
        "    m = (a + b)/2\n",
        "    print(\"R =\", m)\n",
        "    print(\"E =\", abs(f(m)))\n",
        "    if np.abs(f(m)) < tol:\n",
        "        # stopping condition, report m as root\n",
        "        return m\n",
        "    elif np.sign(f(a)) == np.sign(f(m)):\n",
        "        # case where m is an improvement on a. \n",
        "        # Make recursive call with a = m\n",
        "\n",
        "        return my_bisection(f, m, b, tol)\n",
        "    elif np.sign(f(b)) == np.sign(f(m)):\n",
        "        # case where m is an improvement on b. \n",
        "        # Make recursive call with b = m\n",
        "\n",
        "        return my_bisection(f, a, m, tol)\n",
        "\n",
        "f = lambda x: x**2 - 2\n",
        "R = my_bisection(f, 0, 2, 1e-1)"
      ],
      "metadata": {
        "colab": {
          "base_uri": "https://localhost:8080/"
        },
        "id": "C3Dg3zydP3qK",
        "outputId": "f5805fed-d9b6-43d9-b1f2-ced843d248a2"
      },
      "execution_count": 38,
      "outputs": [
        {
          "output_type": "stream",
          "name": "stdout",
          "text": [
            "R = 1.0\n",
            "E = 1.0\n",
            "R = 1.5\n",
            "E = 0.25\n",
            "R = 1.25\n",
            "E = 0.4375\n",
            "R = 1.375\n",
            "E = 0.109375\n",
            "R = 1.4375\n",
            "E = 0.06640625\n"
          ]
        }
      ]
    },
    {
      "cell_type": "code",
      "source": [
        "## The Newton Raphson method uses the derivative of the function to estimate the\n",
        "## root. By iterating this process, we can get a good estimate of the root.\n",
        "import numpy as np\n",
        "\n",
        "f = lambda x: x**2 - 2\n",
        "f_prime = lambda x: 2*x\n",
        "\n",
        "def my_newton(f, df, x0, tol):\n",
        "    # output is an estimation of the root of f \n",
        "    # using the Newton Raphson method\n",
        "    # recursive implementation\n",
        "    if abs(f(x0)) < tol:\n",
        "        print(\"R =\", x0)\n",
        "        print(\"E =\", abs(f(x0)))\n",
        "        return x0\n",
        "    else:\n",
        "        print(\"R =\", x0)\n",
        "        print(\"E =\", abs(f(x0)))\n",
        "        return my_newton(f, df, x0 - f(x0)/df(x0), tol)\n",
        "\n",
        "T = my_newton(f, f_prime, 1, 1e-5)"
      ],
      "metadata": {
        "colab": {
          "base_uri": "https://localhost:8080/"
        },
        "id": "NmsE8aSRQaQ4",
        "outputId": "dc2993e0-98ff-41f8-875f-d9deb4868778"
      },
      "execution_count": 34,
      "outputs": [
        {
          "output_type": "stream",
          "name": "stdout",
          "text": [
            "R = 1\n",
            "E = 1\n",
            "R = 1.5\n",
            "E = 0.25\n",
            "R = 1.4166666666666667\n",
            "E = 0.006944444444444642\n",
            "R = 1.4142156862745099\n",
            "E = 6.007304882871267e-06\n"
          ]
        }
      ]
    },
    {
      "cell_type": "code",
      "source": [
        "## This fsolve function uses an initial guess, which helps with root solving. \n",
        "from scipy.optimize import fsolve\n",
        "\n",
        "f = lambda x: x**3-45*x**2-x+50\n",
        "\n",
        "fsolve(f, [1, 50])"
      ],
      "metadata": {
        "colab": {
          "base_uri": "https://localhost:8080/"
        },
        "id": "OnQXiiNXQpr4",
        "outputId": "ab9185d1-8a07-4a12-c5fd-409cd06ebdce"
      },
      "execution_count": 42,
      "outputs": [
        {
          "output_type": "execute_result",
          "data": {
            "text/plain": [
              "array([ 1.05535752, 44.99752937])"
            ]
          },
          "metadata": {},
          "execution_count": 42
        }
      ]
    }
  ]
}