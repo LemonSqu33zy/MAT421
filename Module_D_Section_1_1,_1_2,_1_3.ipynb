{
  "nbformat": 4,
  "nbformat_minor": 0,
  "metadata": {
    "colab": {
      "name": "Module D: Section 1.1, 1.2, 1.3.ipynb",
      "provenance": [],
      "authorship_tag": "ABX9TyM/UGuzraV3Igmk3VTvagni",
      "include_colab_link": true
    },
    "kernelspec": {
      "name": "python3",
      "display_name": "Python 3"
    },
    "language_info": {
      "name": "python"
    }
  },
  "cells": [
    {
      "cell_type": "markdown",
      "metadata": {
        "id": "view-in-github",
        "colab_type": "text"
      },
      "source": [
        "<a href=\"https://colab.research.google.com/github/LemonSqu33zy/MAT421/blob/main/Module_D_Section_1_1%2C_1_2%2C_1_3.ipynb\" target=\"_parent\"><img src=\"https://colab.research.google.com/assets/colab-badge.svg\" alt=\"Open In Colab\"/></a>"
      ]
    },
    {
      "cell_type": "code",
      "execution_count": 3,
      "metadata": {
        "colab": {
          "base_uri": "https://localhost:8080/"
        },
        "id": "kS73Ispsl4Jp",
        "outputId": "d2d5b118-9620-4fd1-c323-a7247a9eeb96"
      },
      "outputs": [
        {
          "output_type": "stream",
          "name": "stdout",
          "text": [
            "The dot product of [2,4] and [3,9] is 42\n"
          ]
        }
      ],
      "source": [
        "## Dot product is an important part of linear algebra. This code is just an\n",
        "## example of coding such a function in python.\n",
        "import numpy as np\n",
        "\n",
        "X = [2,4]\n",
        "Y = [3,9]\n",
        "\n",
        "print(\"The dot product of [2,4] and [3,9] is\",np.dot(X,Y))"
      ]
    },
    {
      "cell_type": "code",
      "source": [
        "## We find an orthogonal matrix by implementing a qr factorization. This can in \n",
        "## theory generate orthonormal vectors, as you can find the norm and pairwise\n",
        "## orthogonality. \n",
        "import numpy as np\n",
        "from scipy.linalg import qr\n",
        "\n",
        "X = np.random.randn(5,5)\n",
        "Y,Z = qr(X)\n",
        "print(\"The matrix is:\")\n",
        "print(X)\n",
        "print(\"The orthogonal matrix is:\")\n",
        "print(Y.dot(Y.T))"
      ],
      "metadata": {
        "colab": {
          "base_uri": "https://localhost:8080/"
        },
        "id": "kXkBx8F5of41",
        "outputId": "819183d7-c93e-4079-e708-e4169a29ec2f"
      },
      "execution_count": 5,
      "outputs": [
        {
          "output_type": "stream",
          "name": "stdout",
          "text": [
            "The matrix is:\n",
            "[[ 0.86563447  0.89806737  0.86318515  1.10221027  0.98284694]\n",
            " [-1.41137361 -0.82709246 -1.3972254   0.38811316 -1.73169835]\n",
            " [ 0.06918993  1.61250603  1.72360387  0.35276978 -0.73980753]\n",
            " [-0.58654043  2.302484    0.42659152 -0.49878604  0.79193518]\n",
            " [ 1.5786527  -1.18827197  1.2124903  -0.48069097 -0.32700725]]\n",
            "The orthogonal matrix is:\n",
            "[[ 1.00000000e+00  3.69261644e-16  5.21257348e-17  3.93763445e-18\n",
            "   2.15549912e-16]\n",
            " [ 3.69261644e-16  1.00000000e+00 -5.70046052e-17 -1.49736597e-17\n",
            "   8.56478927e-17]\n",
            " [ 5.21257348e-17 -5.70046052e-17  1.00000000e+00 -2.33904032e-17\n",
            "  -3.33635305e-17]\n",
            " [ 3.93763445e-18 -1.49736597e-17 -2.33904032e-17  1.00000000e+00\n",
            "  -4.14255322e-17]\n",
            " [ 2.15549912e-16  8.56478927e-17 -3.33635305e-17 -4.14255322e-17\n",
            "   1.00000000e+00]]\n"
          ]
        }
      ]
    },
    {
      "cell_type": "code",
      "source": [
        ""
      ],
      "metadata": {
        "id": "CBA03nxKthi9"
      },
      "execution_count": null,
      "outputs": []
    },
    {
      "cell_type": "code",
      "source": [
        "## We use the eig function in linalg to find the eigenvalues and eigenvectors. \n",
        "## An eigenvalue is a value such that when the eigenvector is multiplied by the \n",
        "## matrix, it is equal to the eignvalue multiplied by the eigenvector. \n",
        "import numpy as np\n",
        "from scipy.linalg import eig\n",
        "\n",
        "X = np.random.randn(2,2)\n",
        "Y = eig(X)\n",
        "print(\"With the matrix:\")\n",
        "print(X)\n",
        "print(\"The eignevalues and eigenvectors are:\")\n",
        "print(Y)\n"
      ],
      "metadata": {
        "colab": {
          "base_uri": "https://localhost:8080/"
        },
        "id": "vxQL6XwUts13",
        "outputId": "228f0396-446d-4050-b7f1-cbcc18c8e0be"
      },
      "execution_count": 12,
      "outputs": [
        {
          "output_type": "stream",
          "name": "stdout",
          "text": [
            "With the matrix:\n",
            "[[-1.05104735 -0.15594798]\n",
            " [-0.32795652 -0.39817334]]\n",
            "The eignevalues and eigenvectors are:\n",
            "(array([-1.12173158+0.j, -0.32748911+0.j]), array([[-0.91080867,  0.21069122],\n",
            "       [-0.41282875, -0.97755266]]))\n"
          ]
        }
      ]
    }
  ]
}