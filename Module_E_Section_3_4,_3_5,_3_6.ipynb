{
  "nbformat": 4,
  "nbformat_minor": 0,
  "metadata": {
    "colab": {
      "name": "Module E: Section 3.4, 3.5, 3.6.ipynb",
      "provenance": [],
      "authorship_tag": "ABX9TyM70WPfx++lDLvi6/SeY8Ml",
      "include_colab_link": true
    },
    "kernelspec": {
      "name": "python3",
      "display_name": "Python 3"
    },
    "language_info": {
      "name": "python"
    }
  },
  "cells": [
    {
      "cell_type": "markdown",
      "metadata": {
        "id": "view-in-github",
        "colab_type": "text"
      },
      "source": [
        "<a href=\"https://colab.research.google.com/github/LemonSqu33zy/MAT421/blob/main/Module_E_Section_3_4%2C_3_5%2C_3_6.ipynb\" target=\"_parent\"><img src=\"https://colab.research.google.com/assets/colab-badge.svg\" alt=\"Open In Colab\"/></a>"
      ]
    },
    {
      "cell_type": "code",
      "execution_count": 3,
      "metadata": {
        "colab": {
          "base_uri": "https://localhost:8080/"
        },
        "id": "CIthHnJboLLD",
        "outputId": "f9ffbbaf-1677-42ac-fc4a-890bf3257e2f"
      },
      "outputs": [
        {
          "output_type": "stream",
          "name": "stdout",
          "text": [
            "              precision    recall  f1-score   support\n",
            "\n",
            "           0       1.00      0.60      0.75         5\n",
            "           1       0.75      1.00      0.86         6\n",
            "\n",
            "    accuracy                           0.82        11\n",
            "   macro avg       0.88      0.80      0.80        11\n",
            "weighted avg       0.86      0.82      0.81        11\n",
            "\n"
          ]
        }
      ],
      "source": [
        "## Logistic Regression models binary functions ie sets of 1s and 0s. This is a\n",
        "## sample data set of 1s and 0s that then had logistic regression performed. The \n",
        "## output tells us the statistics of the data set and regression model. \n",
        "import matplotlib.pyplot as plt\n",
        "import numpy as np\n",
        "from sklearn.linear_model import LogisticRegression\n",
        "from sklearn.metrics import classification_report, confusion_matrix\n",
        "\n",
        "x = np.arange(11).reshape(-1, 1)\n",
        "y = np.array([0, 0, 0, 0, 0, 1, 1, 1, 1, 1,1])\n",
        "\n",
        "model = LogisticRegression(solver='liblinear', random_state=0).fit(x, y)\n",
        "\n",
        "model.intercept_\n",
        "model.coef_\n",
        "model.predict_proba(x)\n",
        "model.predict(x)\n",
        "model.score(x, y)\n",
        "confusion_matrix(y, model.predict(x))\n",
        "print(classification_report(y, model.predict(x)))"
      ]
    },
    {
      "cell_type": "code",
      "source": [
        "## Using the make_blobs function, a data set was created that I then grouped into\n",
        "## kgroups. The groups were then iterated upon until we got the same centroid locations.\n",
        "## This is an example of K-mean clustering. \n",
        "!pip install --upgrade kneed\n",
        "import matplotlib.pyplot as plt\n",
        "from kneed import KneeLocator\n",
        "from sklearn.datasets import make_blobs\n",
        "from sklearn.cluster import KMeans\n",
        "from sklearn.metrics import silhouette_score\n",
        "from sklearn.preprocessing import StandardScaler\n",
        "\n",
        "features, true_labels = make_blobs(\n",
        "    n_samples=200,\n",
        "    centers=3,\n",
        "    cluster_std=2.75,\n",
        "    random_state=42)\n",
        "scaler = StandardScaler()\n",
        "scaled_features = scaler.fit_transform(features)\n",
        "kmeans = KMeans(\n",
        "    init=\"random\",\n",
        "    n_clusters=3,\n",
        "    n_init=10,\n",
        "    max_iter=300,\n",
        "    random_state=42)\n",
        "kmeans.fit(scaled_features)\n",
        "print(\"Lowest SSE value:\",kmeans.inertia_)\n",
        "print(\"Final centroid locations:\",kmeans.cluster_centers_)\n",
        "print(\"Number of iterations to converge:\",kmeans.n_iter_)"
      ],
      "metadata": {
        "colab": {
          "base_uri": "https://localhost:8080/"
        },
        "id": "99STwuzdqqK_",
        "outputId": "0206b287-dc0c-4f2c-99c0-e0b0f77d8a38"
      },
      "execution_count": 13,
      "outputs": [
        {
          "output_type": "stream",
          "name": "stdout",
          "text": [
            "Requirement already satisfied: kneed in /usr/local/lib/python3.7/dist-packages (0.7.0)\n",
            "Requirement already satisfied: matplotlib in /usr/local/lib/python3.7/dist-packages (from kneed) (3.2.2)\n",
            "Requirement already satisfied: numpy>=1.14.2 in /usr/local/lib/python3.7/dist-packages (from kneed) (1.21.5)\n",
            "Requirement already satisfied: scipy in /usr/local/lib/python3.7/dist-packages (from kneed) (1.4.1)\n",
            "Requirement already satisfied: python-dateutil>=2.1 in /usr/local/lib/python3.7/dist-packages (from matplotlib->kneed) (2.8.2)\n",
            "Requirement already satisfied: kiwisolver>=1.0.1 in /usr/local/lib/python3.7/dist-packages (from matplotlib->kneed) (1.3.2)\n",
            "Requirement already satisfied: pyparsing!=2.0.4,!=2.1.2,!=2.1.6,>=2.0.1 in /usr/local/lib/python3.7/dist-packages (from matplotlib->kneed) (3.0.7)\n",
            "Requirement already satisfied: cycler>=0.10 in /usr/local/lib/python3.7/dist-packages (from matplotlib->kneed) (0.11.0)\n",
            "Requirement already satisfied: six>=1.5 in /usr/local/lib/python3.7/dist-packages (from python-dateutil>=2.1->matplotlib->kneed) (1.15.0)\n",
            "Lowest SSE value: 74.57960106819854\n",
            "Final centroid locations: [[-0.25813925  1.05589975]\n",
            " [-0.91941183 -1.18551732]\n",
            " [ 1.19539276  0.13158148]]\n",
            "Number of iterations to converge: 2\n"
          ]
        }
      ]
    },
    {
      "cell_type": "code",
      "source": [
        "## Using Support Vector Machine, we can estimate the location of another data point.\n",
        "## This model takes two equations and then fits the new point on either and returns \n",
        "## the value.\n",
        "from sklearn import svm\n",
        "X = [[-1, -1], [1, 1]]\n",
        "y = [-1, 1]\n",
        "clf = svm.SVC()\n",
        "clf.fit(X, y)\n",
        "clf.predict([[-2 ,-2]])"
      ],
      "metadata": {
        "colab": {
          "base_uri": "https://localhost:8080/"
        },
        "id": "yOsmNOIBxOjG",
        "outputId": "2d225ed4-36d3-4b4c-c6b9-8a0876279e49"
      },
      "execution_count": 27,
      "outputs": [
        {
          "output_type": "execute_result",
          "data": {
            "text/plain": [
              "array([-1])"
            ]
          },
          "metadata": {},
          "execution_count": 27
        }
      ]
    }
  ]
}