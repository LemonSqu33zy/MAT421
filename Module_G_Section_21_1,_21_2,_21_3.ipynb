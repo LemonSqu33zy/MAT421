{
  "nbformat": 4,
  "nbformat_minor": 0,
  "metadata": {
    "colab": {
      "name": "Module G: Section 21.1, 21.2, 21.3.ipynb",
      "provenance": [],
      "authorship_tag": "ABX9TyMIDb8OtXqr78TQLa/8bpri",
      "include_colab_link": true
    },
    "kernelspec": {
      "name": "python3",
      "display_name": "Python 3"
    },
    "language_info": {
      "name": "python"
    }
  },
  "cells": [
    {
      "cell_type": "markdown",
      "metadata": {
        "id": "view-in-github",
        "colab_type": "text"
      },
      "source": [
        "<a href=\"https://colab.research.google.com/github/LemonSqu33zy/MAT421/blob/main/Module_G_Section_21_1%2C_21_2%2C_21_3.ipynb\" target=\"_parent\"><img src=\"https://colab.research.google.com/assets/colab-badge.svg\" alt=\"Open In Colab\"/></a>"
      ]
    },
    {
      "cell_type": "code",
      "execution_count": 12,
      "metadata": {
        "colab": {
          "base_uri": "https://localhost:8080/"
        },
        "id": "t4LL89Z7w_KT",
        "outputId": "d7880178-d2e2-429f-8357-22f65d40b8bb"
      },
      "outputs": [
        {
          "output_type": "stream",
          "name": "stdout",
          "text": [
            "1.0550505835469417\n",
            "-0.0550505835469417\n",
            "0.9428508459187349\n",
            "0.057149154081265086\n",
            "1.0005247252048337\n",
            "-0.0005247252048337092\n"
          ]
        }
      ],
      "source": [
        "## This program uses the Riemanns Integral to obtain an estimate of the value of \n",
        "## the area under a curve. By taking the left and right riemmans intergrals with\n",
        "##  the midpoint integral, we are able to find a solution and check for accuracy. \n",
        "import numpy as np\n",
        "\n",
        "\n",
        "a = 0\n",
        "b = np.pi/2\n",
        "n = 15\n",
        "h = (b - a) / (n - 1)\n",
        "x = np.linspace(a, b, n)\n",
        "f = np.cos(x)\n",
        "\n",
        "I_riemannL = h * sum(f[:n-1])\n",
        "err_riemannL = 1 - I_riemannL\n",
        "\n",
        "I_riemannR = h * sum(f[1::])\n",
        "err_riemannR = 1 - I_riemannR\n",
        "\n",
        "I_mid = h * sum(np.cos((x[:n-1] \\\n",
        "        + x[1:])/2))\n",
        "err_mid = 1 - I_mid\n",
        "\n",
        "print(I_riemannL)\n",
        "print(err_riemannL)\n",
        "\n",
        "print(I_riemannR)\n",
        "print(err_riemannR)\n",
        "\n",
        "print(I_mid)\n",
        "print(err_mid)"
      ]
    },
    {
      "cell_type": "code",
      "source": [
        "## Using the Trapezoid rule, in which the area of a trapezoid over a subinterval \n",
        "##is used, we are also able to find the area under a curve. We can see that the \n",
        "## error is lower than that of the Riemann Integrals.\n",
        "import numpy as np\n",
        "\n",
        "a = 0\n",
        "b = np.pi/2\n",
        "n = 15\n",
        "h = (b - a) / (n - 1)\n",
        "x = np.linspace(a, b, n)\n",
        "f = np.cos(x)\n",
        "\n",
        "I_trap = (h/2)*(f[0] + \\\n",
        "          2 * sum(f[1:n-1]) + f[n-1])\n",
        "err_trap = 1 - I_trap\n",
        "\n",
        "print(I_trap)\n",
        "print(err_trap)"
      ],
      "metadata": {
        "colab": {
          "base_uri": "https://localhost:8080/"
        },
        "id": "EIprWJKCAEXR",
        "outputId": "c9454758-1303-44a2-bfa1-52f13af8c19f"
      },
      "execution_count": 14,
      "outputs": [
        {
          "output_type": "stream",
          "name": "stdout",
          "text": [
            "0.9989507147328384\n",
            "0.001049285267161637\n"
          ]
        }
      ]
    },
    {
      "cell_type": "code",
      "source": [
        "## This is just a basic integration function of x^3 from 0 to 2.\n",
        "import numpy as np\n",
        "import sympy as sy\n",
        "  \n",
        "  \n",
        "def f(x):\n",
        "    return x**3\n",
        "  \n",
        "x = sy.Symbol(\"x\")\n",
        "print(sy.integrate(f(x), (x, 0, 2)))"
      ],
      "metadata": {
        "colab": {
          "base_uri": "https://localhost:8080/"
        },
        "id": "45X5HHsVCOsX",
        "outputId": "51e70963-623d-483c-9e07-b44b38a0821e"
      },
      "execution_count": 15,
      "outputs": [
        {
          "output_type": "stream",
          "name": "stdout",
          "text": [
            "4\n"
          ]
        }
      ]
    }
  ]
}